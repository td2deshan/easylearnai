{
 "cells": [
  {
   "cell_type": "markdown",
   "metadata": {},
   "source": [
    "# <div style='color:skyblue'>Binary Logistic Regression 1</div>"
   ]
  },
  {
   "cell_type": "code",
   "execution_count": 34,
   "metadata": {},
   "outputs": [],
   "source": [
    "import numpy as np # for array, matrix handing\n",
    "import matplotlib.pyplot as plt #for data visualization\n",
    "%matplotlib inline\n",
    "\n",
    "#change plotting style\n",
    "#to get all available plotting styles --> plt.style.available\n",
    "plt.style.use('seaborn')"
   ]
  },
  {
   "cell_type": "markdown",
   "metadata": {},
   "source": [
    "### Example : Logical AND Gate (2 inputs)"
   ]
  },
  {
   "cell_type": "code",
   "execution_count": 2,
   "metadata": {},
   "outputs": [
    {
     "data": {
      "text/plain": [
       "array([[0, 0],\n",
       "       [0, 1],\n",
       "       [1, 0],\n",
       "       [1, 1]])"
      ]
     },
     "execution_count": 2,
     "metadata": {},
     "output_type": "execute_result"
    }
   ],
   "source": [
    "inputs = np.array([\n",
    "    [0, 0],\n",
    "    [0, 1],\n",
    "    [1, 0],\n",
    "    [1, 1]\n",
    "])\n",
    "\n",
    "inputs"
   ]
  },
  {
   "cell_type": "code",
   "execution_count": 3,
   "metadata": {},
   "outputs": [
    {
     "data": {
      "text/plain": [
       "array([[0],\n",
       "       [0],\n",
       "       [0],\n",
       "       [1]])"
      ]
     },
     "execution_count": 3,
     "metadata": {},
     "output_type": "execute_result"
    }
   ],
   "source": [
    "outputs = np.array([0, 0, 0, 1]).reshape(-1, 1)\n",
    "outputs"
   ]
  },
  {
   "cell_type": "code",
   "execution_count": 46,
   "metadata": {},
   "outputs": [],
   "source": [
    "#We need following libraries to make the model\n",
    "import tensorflow.keras as keras\n",
    "from tensorflow.keras.models import Sequential\n",
    "from tensorflow.keras.layers import Dense\n",
    "from tensorflow.keras.optimizers import Adam\n",
    "from tensorflow.keras.losses import binary_crossentropy"
   ]
  },
  {
   "cell_type": "code",
   "execution_count": 13,
   "metadata": {},
   "outputs": [],
   "source": [
    "model = Sequential()\n",
    "#for getting non-linearity have to use activation function such as sigmoid, relu, tanh, ...\n",
    "#To know availabe activation functions can used \"import tensorflow.keras.activations\" \n",
    "\n",
    "#input_dim = 2 -- because we have 2 inputs at one time\n",
    "#(i.e. to get 0 or 1 as output needed 2 inputs. eg: for getting 1 as output input must be [1 1])\n",
    "model.add(Dense(units=1, activation='sigmoid', input_dim=2))\n",
    "#Except output layer it is not good to use \"sigmoid\"\n",
    "\n",
    "model.compile(optimizer=Adam(lr=0.01), loss=binary_crossentropy, metrics=['accuracy'])\n",
    "                             "
   ]
  },
  {
   "cell_type": "code",
   "execution_count": 14,
   "metadata": {},
   "outputs": [
    {
     "data": {
      "text/plain": [
       "<tensorflow.python.keras.callbacks.History at 0x1c7d4f454a8>"
      ]
     },
     "execution_count": 14,
     "metadata": {},
     "output_type": "execute_result"
    }
   ],
   "source": [
    "model.fit(inputs, outputs, epochs=1000, verbose=0)"
   ]
  },
  {
   "cell_type": "code",
   "execution_count": 15,
   "metadata": {},
   "outputs": [
    {
     "data": {
      "text/plain": [
       "Text(0, 0.5, 'loss')"
      ]
     },
     "execution_count": 15,
     "metadata": {},
     "output_type": "execute_result"
    },
    {
     "data": {
      "image/png": "[encoded data removed]",
      "text/plain": [
       "<Figure size 576x360 with 1 Axes>"
      ]
     },
     "metadata": {
      "needs_background": "light"
     },
     "output_type": "display_data"
    }
   ],
   "source": [
    "plt.figure(figsize=(8, 5))\n",
    "plt.plot(model.history.history['loss'])\n",
    "\n",
    "plt.xlabel('no of epoch')\n",
    "plt.ylabel('loss')"
   ]
  },
  {
   "cell_type": "code",
   "execution_count": 10,
   "metadata": {},
   "outputs": [
    {
     "name": "stdout",
     "output_type": "stream",
     "text": [
      "[0] --> [1.]\n",
      "[0] --> [1.]\n",
      "[0] --> [1.]\n",
      "[1] --> [1.]\n"
     ]
    }
   ],
   "source": [
    "#To check model trained precisely; don't depend only on low loss value.\n",
    "#Try to check with original outputs with predicted ones\n",
    "#To do this we can use simple program like below(for small ones), but precise way is used \"confusion_matrix\"\n",
    "for i in zip(outputs, model.predict(inputs)):\n",
    "    print(i[0], '-->', i[1])"
   ]
  },
  {
   "cell_type": "code",
   "execution_count": null,
   "metadata": {},
   "outputs": [],
   "source": [
    "#In logistic regression problems to measure accurate of model we can use \"confusion_matrix\""
   ]
  },
  {
   "cell_type": "code",
   "execution_count": 13,
   "metadata": {},
   "outputs": [],
   "source": [
    "#scikit learn is ML library\n",
    "from sklearn.metrics import confusion_matrix\n",
    "#seaborn is a high level plotting library based on matplotlib\n",
    "import seaborn as sns"
   ]
  },
  {
   "cell_type": "code",
   "execution_count": 103,
   "metadata": {},
   "outputs": [
    {
     "data": {
      "text/plain": [
       "array([[0.00312133],\n",
       "       [0.12801233],\n",
       "       [0.12438854],\n",
       "       [0.86946183]], dtype=float32)"
      ]
     },
     "execution_count": 103,
     "metadata": {},
     "output_type": "execute_result"
    }
   ],
   "source": [
    "pred = model.predict(inputs)\n",
    "pred"
   ]
  },
  {
   "cell_type": "code",
   "execution_count": 104,
   "metadata": {},
   "outputs": [
    {
     "data": {
      "text/plain": [
       "array([[0.],\n",
       "       [0.],\n",
       "       [0.],\n",
       "       [1.]], dtype=float32)"
      ]
     },
     "execution_count": 104,
     "metadata": {},
     "output_type": "execute_result"
    }
   ],
   "source": [
    "#predtion values are not binary/discrete values(these are continuous), but original output values are binary\n",
    "#But confusion matrix can't handle a mix of binary and continuous targets\n",
    "#There for have to convert these valuse into binary\n",
    "\n",
    "#Our logic is; if predicted value is,\n",
    "#                            >  0.5 --> 1\n",
    "#                            <= 0.5 --> 0\n",
    "pred[pred > .5] = 1\n",
    "pred[pred <= .5] = 0\n",
    "pred"
   ]
  },
  {
   "cell_type": "code",
   "execution_count": 105,
   "metadata": {},
   "outputs": [
    {
     "data": {
      "text/plain": [
       "<matplotlib.axes._subplots.AxesSubplot at 0x13d9b6e59b0>"
      ]
     },
     "execution_count": 105,
     "metadata": {},
     "output_type": "execute_result"
    },
    {
     "data": {
      "image/png": "[encoded data removed]",
      "text/plain": [
       "<Figure size 2160x1440 with 1 Axes>"
      ]
     },
     "metadata": {},
     "output_type": "display_data"
    }
   ],
   "source": [
    "cm = confusion_matrix(outputs, pred)\n",
    "\n",
    "plt.figure(figsize=(30, 20))\n",
    "plt.subplot(2,3,1)\n",
    "sns.set(font_scale=3)\n",
    "\n",
    "sns.heatmap(cm, annot=True, cmap='Blues', cbar=False, fmt='d')"
   ]
  },
  {
   "cell_type": "code",
   "execution_count": null,
   "metadata": {},
   "outputs": [],
   "source": [
    "#Apply model"
   ]
  },
  {
   "cell_type": "code",
   "execution_count": 108,
   "metadata": {},
   "outputs": [],
   "source": [
    "def predict_logical_and(in1, in2):\n",
    "    #change input format for model required\n",
    "    x = [[[in1, in2]]]\n",
    "    \n",
    "    pred = model.predict(x)\n",
    "    \n",
    "    if pred > .5:\n",
    "        return 1\n",
    "    else:\n",
    "        return 0\n",
    "    "
   ]
  },
  {
   "cell_type": "code",
   "execution_count": 109,
   "metadata": {},
   "outputs": [
    {
     "data": {
      "text/plain": [
       "1"
      ]
     },
     "execution_count": 109,
     "metadata": {},
     "output_type": "execute_result"
    }
   ],
   "source": [
    "predict_logical_and(1, 1)"
   ]
  },
  {
   "cell_type": "code",
   "execution_count": 111,
   "metadata": {},
   "outputs": [
    {
     "data": {
      "text/plain": [
       "0"
      ]
     },
     "execution_count": 111,
     "metadata": {},
     "output_type": "execute_result"
    }
   ],
   "source": [
    "predict_logical_and(0, 1)"
   ]
  },
  {
   "cell_type": "markdown",
   "metadata": {},
   "source": [
    "### Example : Logical XOR Gate (2 inputs)"
   ]
  },
  {
   "cell_type": "code",
   "execution_count": 3,
   "metadata": {},
   "outputs": [],
   "source": [
    "inputs = np.array([\n",
    "    [0, 0],\n",
    "    [0, 1],\n",
    "    [1, 0],\n",
    "    [1, 1]\n",
    "])\n",
    "\n",
    "outputs = np.array([0, 1, 1, 0]).reshape(-1, 1)"
   ]
  },
  {
   "cell_type": "markdown",
   "metadata": {},
   "source": [
    "#### Here we have to use 3 layers\n",
    "                - input layer\n",
    "                - one hidden layer\n",
    "                - output layer"
   ]
  },
  {
   "cell_type": "code",
   "execution_count": 48,
   "metadata": {},
   "outputs": [],
   "source": [
    "def build_model(lr=0.01):\n",
    "    model = Sequential()\n",
    "\n",
    "    #input layer (\"input_dim\" or \"input_shape\" parameter use only input layer)\n",
    "    model.add(Dense(units=2, activation='relu', input_dim=2))\n",
    "    #hidden layer & output layer\n",
    "    model.add(Dense(units=1, activation='sigmoid'))\n",
    "\n",
    "    optimizer = keras.optimizers.Adam(lr=lr)\n",
    "    loss = keras.losses.binary_crossentropy\n",
    "    \n",
    "    model.compile(optimizer=optimizer, loss=loss, metrics=['accuracy'])\n",
    "    \n",
    "    return model\n",
    "\n",
    "model = build_model()"
   ]
  },
  {
   "cell_type": "code",
   "execution_count": 49,
   "metadata": {},
   "outputs": [
    {
     "data": {
      "text/plain": [
       "[<matplotlib.lines.Line2D at 0x1b39a2be0b8>]"
      ]
     },
     "execution_count": 49,
     "metadata": {},
     "output_type": "execute_result"
    },
    {
     "data": {
      "image/png": "[encoded data removed]",
      "text/plain": [
       "<Figure size 576x396 with 1 Axes>"
      ]
     },
     "metadata": {},
     "output_type": "display_data"
    }
   ],
   "source": [
    "epochs = 500\n",
    "\n",
    "model.fit(inputs, outputs, epochs=epochs, verbose=0)\n",
    "\n",
    "plt.plot(model.history.history['loss'])"
   ]
  },
  {
   "cell_type": "code",
   "execution_count": 50,
   "metadata": {},
   "outputs": [
    {
     "data": {
      "image/png": "[encoded data removed]",
      "text/plain": [
       "<Figure size 576x396 with 1 Axes>"
      ]
     },
     "metadata": {},
     "output_type": "display_data"
    }
   ],
   "source": [
    "#display confusion_matrix for binary logic gate outputs\n",
    "#used sklearn, matplotlib & seaborn libraries\n",
    "def displayBinaryCM(model, x, y):\n",
    "    pred = model.predict(x)\n",
    "    #convert values which greater than .5 into 1 & other into 0\n",
    "    pred[pred > .5] = 1\n",
    "    pred[pred <= .5] = 0\n",
    "    \n",
    "    cm = confusion_matrix(y, pred)\n",
    "    \n",
    "    sns.heatmap(cm, annot=True, cmap='Blues', cbar=False, fmt='d')\n",
    "\n",
    "displayBinaryCM(model, inputs, outputs)"
   ]
  },
  {
   "cell_type": "code",
   "execution_count": null,
   "metadata": {},
   "outputs": [],
   "source": []
  },
  {
   "cell_type": "code",
   "execution_count": null,
   "metadata": {},
   "outputs": [],
   "source": []
  }
 ],
 "metadata": {
  "kernelspec": {
   "display_name": "Python 3",
   "language": "python",
   "name": "python3"
  },
  "language_info": {
   "codemirror_mode": {
    "name": "ipython",
    "version": 3
   },
   "file_extension": ".py",
   "mimetype": "text/x-python",
   "name": "python",
   "nbconvert_exporter": "python",
   "pygments_lexer": "ipython3",
   "version": "3.6.5"
  }
 },
 "nbformat": 4,
 "nbformat_minor": 2
}
